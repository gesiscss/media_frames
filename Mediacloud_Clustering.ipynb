{
 "cells": [
  {
   "cell_type": "code",
   "execution_count": null,
   "metadata": {},
   "outputs": [],
   "source": [
    "import pandas as pd\n",
    "import numpy as np\n",
    "from sklearn.cluster import MiniBatchKMeans, KMeans\n",
    "from sklearn.feature_extraction.text import TfidfVectorizer\n",
    "from sklearn.decomposition import PCA\n",
    "import matplotlib.pyplot as plt\n",
    "from sklearn.manifold import TSNE\n",
    "from sklearn.metrics import silhouette_score\n",
    "import ast \n",
    "import re\n",
    "from gensim.corpora import Dictionary\n",
    "from gensim.models.coherencemodel import CoherenceModel\n",
    "import gensim\n",
    "from sklearn.cluster import AgglomerativeClustering\n",
    "from scipy.cluster.hierarchy import ward, dendrogram\n",
    "from sklearn.feature_selection import chi2\n",
    "from sklearn.decomposition import TruncatedSVD"
   ]
  },
  {
   "cell_type": "code",
   "execution_count": null,
   "metadata": {},
   "outputs": [],
   "source": [
    "df = pd.read_csv(\"mediacloud_parsed_corona_df.csv\")\n",
    "df = df[~df.Text.isnull()]\n",
    "df.head()"
   ]
  },
  {
   "cell_type": "code",
   "execution_count": null,
   "metadata": {},
   "outputs": [],
   "source": [
    "\n",
    "df['tokens'] = df['tokens'].apply(ast.literal_eval) #transforming string of tokens to list\n",
    "#df['tokens'] = df['tokens'].apply(remove)"
   ]
  },
  {
   "cell_type": "code",
   "execution_count": null,
   "metadata": {},
   "outputs": [],
   "source": [
    "def dummy_fun(doc):\n",
    "    return doc\n",
    "\n",
    "tfidf = TfidfVectorizer(  #initiating a tfidf vectorizer from list of tokens\n",
    "    analyzer='word',\n",
    "    tokenizer=dummy_fun,\n",
    "    preprocessor=dummy_fun,\n",
    "    token_pattern=None) "
   ]
  },
  {
   "cell_type": "code",
   "execution_count": null,
   "metadata": {},
   "outputs": [],
   "source": [
    "tfidf.fit(df['tokens']) #fit and transform to vectors\n",
    "features = tfidf.transform(df['tokens'])"
   ]
  },
  {
   "cell_type": "markdown",
   "metadata": {},
   "source": [
    "## K-means"
   ]
  },
  {
   "cell_type": "code",
   "execution_count": null,
   "metadata": {},
   "outputs": [],
   "source": [
    "random_state = 0\n",
    "tsne_init = 'pca'  # could also be 'random'\n",
    "tsne_perplexity = 20.0\n",
    "tsne_early_exaggeration = 4.0\n",
    "tsne_learning_rate = 1000\n",
    "\n",
    "model_results = {'Topics': [],\n",
    "                 #'Coherence': [],\n",
    "                 'Silhouette': [],\n",
    "                 'Top_terms' : []\n",
    "                }\n",
    "for k in range(3, 10, 1):\n",
    "    model = KMeans(n_clusters=k, init='k-means++', max_iter=100, n_init=1, random_state = random_state)\n",
    "    data = model.fit(features)\n",
    "    sil = silhouette_score(features, labels=model.predict(features))\n",
    "    print(f'Num of topics: {k}')\n",
    "    centroids = model.cluster_centers_\n",
    "\n",
    "    model_tsne = TSNE(n_components=2, random_state=random_state, init=tsne_init, perplexity=tsne_perplexity,\n",
    "             early_exaggeration=tsne_early_exaggeration, learning_rate=tsne_learning_rate)\n",
    "\n",
    "    transformed_centroids = model.fit_transform(centroids)\n",
    "    plt.scatter(transformed_centroids[:, 0], transformed_centroids[:, 1], marker='x')\n",
    "    plt.show()\n",
    "    \n",
    "    terms = tfidf.get_feature_names()\n",
    "    order_centroids = centroids.argsort()[:, ::-1]\n",
    "    top_terms = []\n",
    "\n",
    "    for i in range(k):\n",
    "        temp = []\n",
    "        for ind in order_centroids[i-1, :10]:\n",
    "            temp.append(terms[ind])\n",
    "        top_terms.append(temp)\n",
    "    \n",
    "    \n",
    "    model_results['Topics'].append(k)\n",
    "    model_results['Silhouette'].append(sil)\n",
    "    model_results['Top_terms'].append(top_terms)\n",
    "\n",
    "models_df = pd.DataFrame(model_results)"
   ]
  },
  {
   "cell_type": "code",
   "execution_count": null,
   "metadata": {},
   "outputs": [],
   "source": [
    "models_df = pd.read_csv('mediacloud_kmeans_results.csv')"
   ]
  },
  {
   "cell_type": "code",
   "execution_count": null,
   "metadata": {},
   "outputs": [],
   "source": [
    "def get_coherence(topics, dct, texts):\n",
    "    cm = CoherenceModel(topics=topics, dictionary=dct, texts=texts, coherence='c_v')\n",
    "    coherence = cm.get_coherence()\n",
    "    return coherence"
   ]
  },
  {
   "cell_type": "code",
   "execution_count": null,
   "metadata": {},
   "outputs": [],
   "source": [
    "texts = df['tokens'].tolist()\n",
    "dct = Dictionary(texts)\n",
    "\n",
    "models_df['Coherence'] = models_df['Top_terms'].apply(lambda x: get_coherence(x, dct, texts))\n",
    "models_df.to_csv('mediacloud_kmeans_results.csv')\n",
    "models_df"
   ]
  },
  {
   "cell_type": "code",
   "execution_count": null,
   "metadata": {},
   "outputs": [],
   "source": [
    "models_df.plot.line(x='Topics', y='Coherence')"
   ]
  },
  {
   "cell_type": "code",
   "execution_count": null,
   "metadata": {},
   "outputs": [],
   "source": [
    "models_df['Top_terms'][2]"
   ]
  },
  {
   "cell_type": "markdown",
   "metadata": {},
   "source": [
    "## Removing corona-related terms:"
   ]
  },
  {
   "cell_type": "code",
   "execution_count": null,
   "metadata": {},
   "outputs": [],
   "source": [
    "with open('corona_terms.txt', 'r') as corona_terms:\n",
    "    terms = corona_terms.read().replace('\\n', ' ').split(' ')\n",
    "    \n",
    "df['tokens_clean'] = df['tokens'].apply(lambda x: [token for token in x if token not in terms])"
   ]
  },
  {
   "cell_type": "code",
   "execution_count": null,
   "metadata": {},
   "outputs": [],
   "source": [
    "tfidf.fit(df['tokens_clean']) #fit and transform to vectors\n",
    "features_clean = tfidf.transform(df['tokens_clean'])\n",
    "\n",
    "texts = df['tokens_clean'].tolist()\n",
    "dct = Dictionary(texts)\n",
    "\n",
    "\n",
    "model_nocorona_results = {'Topics': [],\n",
    "                 'Coherence': [],\n",
    "                 'Silhouette': [],\n",
    "                 'Top_terms' : []\n",
    "                }\n",
    "for k in range(3, 15, 1):\n",
    "    model = KMeans(n_clusters=k, init='k-means++', max_iter=100, n_init=1, random_state = random_state)\n",
    "    data = model.fit(features_clean)\n",
    "    sil = silhouette_score(features_clean, labels=model.predict(features_clean))\n",
    "    print(f'Num of topics: {k}')\n",
    "    centroids = model.cluster_centers_\n",
    "\n",
    "    model_tsne = TSNE(n_components=2, random_state=random_state, init=tsne_init, perplexity=tsne_perplexity,\n",
    "             early_exaggeration=tsne_early_exaggeration, learning_rate=tsne_learning_rate)\n",
    "\n",
    "    transformed_centroids = model.fit_transform(centroids)\n",
    "    plt.scatter(transformed_centroids[:, 0], transformed_centroids[:, 1], marker='x')\n",
    "    plt.show()\n",
    "    \n",
    "    terms = tfidf.get_feature_names()\n",
    "    order_centroids = centroids.argsort()[:, ::-1]\n",
    "    top_terms = []\n",
    "\n",
    "    for i in range(k):\n",
    "        temp = []\n",
    "        for ind in order_centroids[i-1, :10]:\n",
    "            temp.append(terms[ind])\n",
    "        top_terms.append(temp)\n",
    "    \n",
    "    coherence = get_coherence(top_terms, dct, texts)\n",
    "    \n",
    "    model_nocorona_results['Topics'].append(k)\n",
    "    model_nocorona_results['Silhouette'].append(sil)\n",
    "    model_nocorona_results['Top_terms'].append(top_terms)\n",
    "    model_nocorona_results['Coherence'].append(coherence)\n",
    "\n",
    "model_nocorona_results_df = pd.DataFrame(model_nocorona_results)"
   ]
  },
  {
   "cell_type": "code",
   "execution_count": null,
   "metadata": {},
   "outputs": [],
   "source": [
    "model_nocorona_results_df.to_csv('mediacloud_kmeans_nocorona_results.csv')\n",
    "model_nocorona_results_df"
   ]
  },
  {
   "cell_type": "code",
   "execution_count": null,
   "metadata": {},
   "outputs": [],
   "source": [
    "model_nocorona_results_df.plot.line(x='Topics', y='Coherence')"
   ]
  },
  {
   "cell_type": "code",
   "execution_count": null,
   "metadata": {},
   "outputs": [],
   "source": [
    "model_nocorona_results_df['Top_terms'][3]"
   ]
  },
  {
   "cell_type": "markdown",
   "metadata": {},
   "source": [
    "## Creating bigrams and trigrams"
   ]
  },
  {
   "cell_type": "code",
   "execution_count": null,
   "metadata": {},
   "outputs": [],
   "source": [
    "# Build the bigram and trigram models\n",
    "bigram = gensim.models.Phrases(df['tokens_clean'], min_count=5, threshold=100) # higher threshold fewer phrases.\n",
    "trigram = gensim.models.Phrases(bigram[df['tokens_clean']], threshold=100)  \n",
    "\n",
    "# Faster way to get a sentence clubbed as a trigram/bigram\n",
    "bigram_mod = gensim.models.phrases.Phraser(bigram)\n",
    "trigram_mod = gensim.models.phrases.Phraser(trigram)\n",
    "\n",
    "# See trigram example\n",
    "print(trigram_mod[bigram_mod[df['tokens_clean'][0]]])"
   ]
  },
  {
   "cell_type": "code",
   "execution_count": null,
   "metadata": {},
   "outputs": [],
   "source": [
    "def make_bigrams(texts):\n",
    "    return [bigram_mod[doc] for doc in texts]\n",
    "\n",
    "def make_trigrams(texts):\n",
    "    return [trigram_mod[bigram_mod[doc]] for doc in texts]\n",
    "\n",
    "data_words_bigrams = make_bigrams(df['tokens_clean'])\n",
    "\n",
    "data_words_bigrams"
   ]
  },
  {
   "cell_type": "code",
   "execution_count": null,
   "metadata": {},
   "outputs": [],
   "source": [
    "tfidf.fit(data_words_bigrams) #fit and transform to vectors\n",
    "features_bigrams = tfidf.transform(data_words_bigrams)\n",
    "\n",
    "dct = Dictionary(data_words_bigrams)"
   ]
  },
  {
   "cell_type": "code",
   "execution_count": null,
   "metadata": {},
   "outputs": [],
   "source": [
    "random_state = 0\n",
    "tsne_init = 'pca'  # could also be 'random'\n",
    "tsne_perplexity = 20.0\n",
    "tsne_early_exaggeration = 4.0\n",
    "tsne_learning_rate = 1000\n",
    "\n",
    "model_bigram_results = {'Topics': [],\n",
    "                 'Coherence': [],\n",
    "                 'Silhouette': [],\n",
    "                 'Top_terms' : []\n",
    "                }\n",
    "for k in range(3, 15, 1):\n",
    "    model = KMeans(n_clusters=k, init='k-means++', max_iter=100, n_init=1, random_state = random_state)\n",
    "    data = model.fit(features_bigrams)\n",
    "    sil = silhouette_score(features_bigrams, labels=model.predict(features_bigrams))\n",
    "    print(f'Num of topics: {k}')\n",
    "    centroids = model.cluster_centers_\n",
    "\n",
    "    model_tsne = TSNE(n_components=2, random_state=random_state, init=tsne_init, perplexity=tsne_perplexity,\n",
    "             early_exaggeration=tsne_early_exaggeration, learning_rate=tsne_learning_rate)\n",
    "\n",
    "    transformed_centroids = model.fit_transform(centroids)\n",
    "    plt.scatter(transformed_centroids[:, 0], transformed_centroids[:, 1], marker='x')\n",
    "    plt.show()\n",
    "    \n",
    "    terms = tfidf.get_feature_names()\n",
    "    order_centroids = centroids.argsort()[:, ::-1]\n",
    "    top_terms = []\n",
    "\n",
    "    for i in range(k):\n",
    "        temp = []\n",
    "        for ind in order_centroids[i-1, :10]:\n",
    "            temp.append(terms[ind])\n",
    "        top_terms.append(temp)\n",
    "    print('Terms are extracted')\n",
    "    coherence = get_coherence(top_terms, dct, data_words_bigrams)\n",
    "    print('Coherence score is calculated')\n",
    "    \n",
    "    model_bigram_results['Topics'].append(k)\n",
    "    model_bigram_results['Silhouette'].append(sil)\n",
    "    model_bigram_results['Top_terms'].append(top_terms)\n",
    "    model_bigram_results['Coherence'].append(coherence)\n",
    "    print('Result is appended')\n",
    "\n",
    "model_bigram_results_df.append(pd.DataFrame(model_bigram_results))"
   ]
  },
  {
   "cell_type": "code",
   "execution_count": null,
   "metadata": {},
   "outputs": [],
   "source": [
    "model_bigram_results_df = pd.DataFrame(model_bigram_results)\n",
    "model_bigram_results_df.to_csv('mediacloud_kmeans_bigrams_nocorona_results.csv')\n",
    "model_bigram_results_df"
   ]
  },
  {
   "cell_type": "code",
   "execution_count": null,
   "metadata": {},
   "outputs": [],
   "source": [
    "#model_bigram_results_df = pd.DataFrame(model_bigram_results)\n",
    "model_bigram_results_df = pd.read_csv('mediacloud_kmeans_bigrams_results.csv')\n",
    "model_bigram_results_df"
   ]
  },
  {
   "cell_type": "code",
   "execution_count": null,
   "metadata": {},
   "outputs": [],
   "source": [
    "model_bigram_results_df.plot.line(x='Topics', y='Coherence')"
   ]
  },
  {
   "cell_type": "code",
   "execution_count": null,
   "metadata": {},
   "outputs": [],
   "source": [
    "model_bigram_results_df['Top_terms'][7]"
   ]
  },
  {
   "cell_type": "code",
   "execution_count": null,
   "metadata": {},
   "outputs": [],
   "source": [
    "random_state = 0\n",
    "tsne_init = 'pca'  # could also be 'random'\n",
    "tsne_perplexity = 20.0\n",
    "tsne_early_exaggeration = 4.0\n",
    "tsne_learning_rate = 1000\n",
    "\n",
    "data_words_trigrams = make_trigrams(df['tokens_clean'])\n",
    "tfidf.fit(data_words_trigrams) #fit and transform to vectors\n",
    "features_trigrams = tfidf.transform(data_words_trigrams)\n",
    "\n",
    "dct = Dictionary(data_words_trigrams)\n",
    "\n",
    "model_trigram_results = {'Topics': [],\n",
    "                 'Coherence': [],\n",
    "                 'Silhouette': [],\n",
    "                 'Top_terms' : []\n",
    "                }\n",
    "for k in range(3, 15, 1):\n",
    "    model = KMeans(n_clusters=k, init='k-means++', max_iter=100, n_init=1, random_state = random_state)\n",
    "    data = model.fit(features_trigrams)\n",
    "    sil = silhouette_score(features_trigrams, labels=model.predict(features_trigrams))\n",
    "    print(f'Num of topics: {k}')\n",
    "    centroids = model.cluster_centers_\n",
    "\n",
    "    model_tsne = TSNE(n_components=2, random_state=random_state, init=tsne_init, perplexity=tsne_perplexity,\n",
    "             early_exaggeration=tsne_early_exaggeration, learning_rate=tsne_learning_rate)\n",
    "\n",
    "    transformed_centroids = model.fit_transform(centroids)\n",
    "    plt.scatter(transformed_centroids[:, 0], transformed_centroids[:, 1], marker='x')\n",
    "    plt.show()\n",
    "    \n",
    "    terms = tfidf.get_feature_names()\n",
    "    order_centroids = centroids.argsort()[:, ::-1]\n",
    "    top_terms = []\n",
    "\n",
    "    for i in range(k):\n",
    "        temp = []\n",
    "        for ind in order_centroids[i-1, :10]:\n",
    "            temp.append(terms[ind])\n",
    "        top_terms.append(temp)\n",
    "    \n",
    "    coherence = get_coherence(top_terms, dct, data_words_trigrams)\n",
    "    \n",
    "    model_trigram_results['Topics'].append(k)\n",
    "    model_trigram_results['Silhouette'].append(sil)\n",
    "    model_trigram_results['Top_terms'].append(top_terms)\n",
    "    model_trigram_results['Coherence'].append(coherence)\n",
    "\n",
    "model_trigram_results_df = pd.DataFrame(model_trigram_results)\n",
    "model_trigram_results_df.to_csv('mediacloud_kmeans_trigrams_results.csv')"
   ]
  },
  {
   "cell_type": "code",
   "execution_count": null,
   "metadata": {},
   "outputs": [],
   "source": [
    "model_trigram_results_df = pd.read_csv('mediacloud_kmeans_trigrams_results.csv')\n",
    "model_trigram_results_df"
   ]
  },
  {
   "cell_type": "code",
   "execution_count": null,
   "metadata": {},
   "outputs": [],
   "source": [
    "model_trigram_results_df.plot.line(x='Topics', y='Coherence')"
   ]
  },
  {
   "cell_type": "code",
   "execution_count": null,
   "metadata": {},
   "outputs": [],
   "source": [
    "model_trigram_results_df['Top_terms'][4]"
   ]
  },
  {
   "cell_type": "markdown",
   "metadata": {},
   "source": [
    "## Hierarchical clustering\n",
    "Applying only on those clusters that seem to relate to stories"
   ]
  },
  {
   "cell_type": "code",
   "execution_count": null,
   "metadata": {},
   "outputs": [],
   "source": [
    "model = KMeans(n_clusters=5, init='k-means++', max_iter=100, n_init=1, random_state = random_state)\n",
    "data = model.fit(features)\n",
    "labels = model.labels_"
   ]
  },
  {
   "cell_type": "code",
   "execution_count": null,
   "metadata": {},
   "outputs": [],
   "source": [
    "centroids = model.cluster_centers_\n",
    "\n",
    "terms = tfidf.get_feature_names()\n",
    "order_centroids = centroids.argsort()[:, ::-1]\n",
    "top_terms = []\n",
    "\n",
    "for i in range(5):\n",
    "    temp = []\n",
    "    for ind in order_centroids[i-1, :10]:\n",
    "        temp.append(terms[ind])\n",
    "    top_terms.append(temp)\n",
    "    \n",
    "top_terms"
   ]
  },
  {
   "cell_type": "code",
   "execution_count": null,
   "metadata": {},
   "outputs": [],
   "source": [
    "#Selecting only those about the first general topic\n",
    "selected_df = df[labels==1]\n",
    "selected_features = tfidf.fit_transform(selected_df['tokens']) #fit and transform to vectors"
   ]
  },
  {
   "cell_type": "code",
   "execution_count": null,
   "metadata": {},
   "outputs": [],
   "source": [
    "selected_features.shape"
   ]
  },
  {
   "cell_type": "code",
   "execution_count": null,
   "metadata": {},
   "outputs": [],
   "source": [
    "svd = TruncatedSVD(n_components=100, random_state=random_state)\n",
    "features_red = svd.fit_transform(selected_features)\n",
    "features_red.shape"
   ]
  },
  {
   "cell_type": "code",
   "execution_count": null,
   "metadata": {},
   "outputs": [],
   "source": [
    "linkage_matrix = ward(features_red)"
   ]
  },
  {
   "cell_type": "code",
   "execution_count": null,
   "metadata": {},
   "outputs": [],
   "source": [
    "fig, ax = plt.subplots(figsize=(15, 20)) # set size\n",
    "ax = dendrogram(linkage_matrix, orientation=\"right\", labels=selected_df['stories_id'].tolist())\n",
    "\n",
    "plt.tick_params(\\\n",
    "    axis= 'x',          # changes apply to the x-axis\n",
    "    which='both',      # both major and minor ticks are affected\n",
    "    bottom='off',      # ticks along the bottom edge are off\n",
    "    top='off',         # ticks along the top edge are off\n",
    "    labelbottom='off')\n",
    "\n",
    "plt.tight_layout()"
   ]
  },
  {
   "cell_type": "code",
   "execution_count": null,
   "metadata": {},
   "outputs": [],
   "source": [
    "from sklearn.cluster import AgglomerativeClustering\n",
    "\n",
    "n_clusters = 8\n",
    "model_hierarchical = AgglomerativeClustering(n_clusters=n_clusters, affinity='euclidean', linkage='ward')  \n",
    "model_hierarchical.fit_predict(features_red)\n"
   ]
  },
  {
   "cell_type": "code",
   "execution_count": null,
   "metadata": {},
   "outputs": [],
   "source": [
    "for label in range(model_hierarchical.n_clusters_):\n",
    "    print(label)\n",
    "    display(selected_df[model_hierarchical.labels_==label]['title'])"
   ]
  },
  {
   "cell_type": "code",
   "execution_count": null,
   "metadata": {},
   "outputs": [],
   "source": [
    "len(model_hierarchical.labels_)"
   ]
  },
  {
   "cell_type": "code",
   "execution_count": null,
   "metadata": {},
   "outputs": [],
   "source": [
    "from yellowbrick.text import TSNEVisualizer\n",
    "\n",
    "tsne = TSNEVisualizer()\n",
    "tsne.fit(features_red, model_hierarchical.labels_)\n",
    "tsne.show()"
   ]
  },
  {
   "cell_type": "code",
   "execution_count": null,
   "metadata": {},
   "outputs": [],
   "source": []
  }
 ],
 "metadata": {
  "kernelspec": {
   "display_name": "Python 3",
   "language": "python",
   "name": "python3"
  },
  "language_info": {
   "codemirror_mode": {
    "name": "ipython",
    "version": 3
   },
   "file_extension": ".py",
   "mimetype": "text/x-python",
   "name": "python",
   "nbconvert_exporter": "python",
   "pygments_lexer": "ipython3"
  }
 },
 "nbformat": 4,
 "nbformat_minor": 2
}
